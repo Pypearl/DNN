{
 "cells": [
  {
   "attachments": {},
   "cell_type": "markdown",
   "metadata": {},
   "source": [
    "# Model"
   ]
  },
  {
   "cell_type": "code",
   "execution_count": 16,
   "metadata": {},
   "outputs": [],
   "source": [
    "import shutil\n",
    "import urllib.request\n",
    "import os\n",
    "import cv2\n",
    "import numpy as np\n",
    "import yaml"
   ]
  },
  {
   "cell_type": "code",
   "execution_count": 17,
   "metadata": {},
   "outputs": [],
   "source": [
    "if not os.path.exists('models'):\n",
    "    os.makedirs('models')\n",
    "if not os.path.exists('models/__init__.py'):\n",
    "    open('models/__init__.py', 'a').close()"
   ]
  },
  {
   "attachments": {},
   "cell_type": "markdown",
   "metadata": {},
   "source": [
    "Each tracker must inherit from the `Tracker` class."
   ]
  },
  {
   "cell_type": "code",
   "execution_count": 18,
   "metadata": {},
   "outputs": [
    {
     "name": "stdout",
     "output_type": "stream",
     "text": [
      "Overwriting model.py\n"
     ]
    }
   ],
   "source": [
    "%%writefile model.py\n",
    "\n",
    "import os\n",
    "\n",
    "class Tracker:\n",
    "    def __init__(self, model_name):\n",
    "        self.model_name = model_name\n",
    "\n",
    "    def initialize(self, image_file, box):\n",
    "        pass\n",
    "\n",
    "    def track(self, image_file):\n",
    "        pass"
   ]
  },
  {
   "cell_type": "code",
   "execution_count": 19,
   "metadata": {},
   "outputs": [],
   "source": [
    "def clone_repo(model, url):\n",
    "    path_zip = os.path.join('models', model + '.zip')\n",
    "    path_no_zip = os.path.join('models')\n",
    "\n",
    "    urllib.request.urlretrieve(url, path_zip)\n",
    "    shutil.unpack_archive(path_zip, path_no_zip)\n",
    "    os.rename(os.path.join(path_no_zip, model + '-master'), os.path.join(path_no_zip, model))\n",
    "    os.remove(path_zip)\n",
    "\n",
    "    open(os.path.join(path_no_zip, model, '__init__.py'), 'a').close()"
   ]
  },
  {
   "attachments": {},
   "cell_type": "markdown",
   "metadata": {},
   "source": [
    "## [SiamSE](https://github.com/isosnovik/SiamSE)"
   ]
  },
  {
   "cell_type": "code",
   "execution_count": 20,
   "metadata": {},
   "outputs": [],
   "source": [
    "model = 'SiamSE'\n",
    "url = 'https://github.com/ISosnovik/SiamSE/archive/refs/heads/master.zip'\n",
    "\n",
    "# clone_repo(model, url)"
   ]
  },
  {
   "attachments": {},
   "cell_type": "markdown",
   "metadata": {},
   "source": [
    "Install needed packages, present in the README.md of the SiamSE repo :\n"
   ]
  },
  {
   "cell_type": "code",
   "execution_count": 10,
   "metadata": {},
   "outputs": [
    {
     "name": "stdout",
     "output_type": "stream",
     "text": [
      "Requirement already satisfied: yacs in /mnt/c/Users/33652/Documents/ING 2 Prog/DeepNN/venv_dnn/lib/python3.10/site-packages (0.1.8)\n",
      "Requirement already satisfied: scipy in /mnt/c/Users/33652/Documents/ING 2 Prog/DeepNN/venv_dnn/lib/python3.10/site-packages (1.9.3)\n",
      "Requirement already satisfied: shapely in /mnt/c/Users/33652/Documents/ING 2 Prog/DeepNN/venv_dnn/lib/python3.10/site-packages (2.0.0)\n",
      "Requirement already satisfied: opencv-python in /mnt/c/Users/33652/Documents/ING 2 Prog/DeepNN/venv_dnn/lib/python3.10/site-packages (4.6.0.66)\n",
      "Requirement already satisfied: numpy in /mnt/c/Users/33652/Documents/ING 2 Prog/DeepNN/venv_dnn/lib/python3.10/site-packages (1.23.5)\n",
      "Requirement already satisfied: torchvision in /mnt/c/Users/33652/Documents/ING 2 Prog/DeepNN/venv_dnn/lib/python3.10/site-packages (0.14.1)\n",
      "Requirement already satisfied: pyyaml in /mnt/c/Users/33652/Documents/ING 2 Prog/DeepNN/venv_dnn/lib/python3.10/site-packages (6.0)\n",
      "Requirement already satisfied: torch in /mnt/c/Users/33652/Documents/ING 2 Prog/DeepNN/venv_dnn/lib/python3.10/site-packages (1.13.1)\n",
      "Requirement already satisfied: pillow!=8.3.*,>=5.3.0 in /mnt/c/Users/33652/Documents/ING 2 Prog/DeepNN/venv_dnn/lib/python3.10/site-packages (from torchvision) (9.3.0)\n",
      "Requirement already satisfied: typing-extensions in /mnt/c/Users/33652/Documents/ING 2 Prog/DeepNN/venv_dnn/lib/python3.10/site-packages (from torchvision) (4.4.0)\n",
      "Requirement already satisfied: requests in /mnt/c/Users/33652/Documents/ING 2 Prog/DeepNN/venv_dnn/lib/python3.10/site-packages (from torchvision) (2.28.1)\n",
      "Requirement already satisfied: nvidia-cudnn-cu11==8.5.0.96 in /mnt/c/Users/33652/Documents/ING 2 Prog/DeepNN/venv_dnn/lib/python3.10/site-packages (from torch) (8.5.0.96)\n",
      "Requirement already satisfied: nvidia-cublas-cu11==11.10.3.66 in /mnt/c/Users/33652/Documents/ING 2 Prog/DeepNN/venv_dnn/lib/python3.10/site-packages (from torch) (11.10.3.66)\n",
      "Requirement already satisfied: nvidia-cuda-runtime-cu11==11.7.99 in /mnt/c/Users/33652/Documents/ING 2 Prog/DeepNN/venv_dnn/lib/python3.10/site-packages (from torch) (11.7.99)\n",
      "Requirement already satisfied: nvidia-cuda-nvrtc-cu11==11.7.99 in /mnt/c/Users/33652/Documents/ING 2 Prog/DeepNN/venv_dnn/lib/python3.10/site-packages (from torch) (11.7.99)\n",
      "Requirement already satisfied: wheel in /mnt/c/Users/33652/Documents/ING 2 Prog/DeepNN/venv_dnn/lib/python3.10/site-packages (from nvidia-cublas-cu11==11.10.3.66->torch) (0.38.4)\n",
      "Requirement already satisfied: setuptools in /mnt/c/Users/33652/Documents/ING 2 Prog/DeepNN/venv_dnn/lib/python3.10/site-packages (from nvidia-cublas-cu11==11.10.3.66->torch) (59.6.0)\n",
      "Requirement already satisfied: certifi>=2017.4.17 in /mnt/c/Users/33652/Documents/ING 2 Prog/DeepNN/venv_dnn/lib/python3.10/site-packages (from requests->torchvision) (2022.12.7)\n",
      "Requirement already satisfied: urllib3<1.27,>=1.21.1 in /mnt/c/Users/33652/Documents/ING 2 Prog/DeepNN/venv_dnn/lib/python3.10/site-packages (from requests->torchvision) (1.26.13)\n",
      "Requirement already satisfied: charset-normalizer<3,>=2 in /mnt/c/Users/33652/Documents/ING 2 Prog/DeepNN/venv_dnn/lib/python3.10/site-packages (from requests->torchvision) (2.1.1)\n",
      "Requirement already satisfied: idna<4,>=2.5 in /mnt/c/Users/33652/Documents/ING 2 Prog/DeepNN/venv_dnn/lib/python3.10/site-packages (from requests->torchvision) (3.4)\n"
     ]
    }
   ],
   "source": [
    "!pip install yacs scipy shapely opencv-python numpy torchvision pyyaml shapely torch"
   ]
  },
  {
   "attachments": {},
   "cell_type": "markdown",
   "metadata": {},
   "source": [
    "Download the pretrained model [weights](https://drive.google.com/file/d/1WQ-9_QE9Xk9wj52vVcEDIXY2NBTupAnZ/view?usp=share_link) and put the file in the `SiamSE` folder."
   ]
  },
  {
   "cell_type": "code",
   "execution_count": 21,
   "metadata": {},
   "outputs": [
    {
     "name": "stdout",
     "output_type": "stream",
     "text": [
      "Appending to model.py\n"
     ]
    }
   ],
   "source": [
    "%%writefile -a model.py\n",
    "\n",
    "import os\n",
    "import cv2\n",
    "\n",
    "def get_SESIAMFC_tracker():\n",
    "    import yaml\n",
    "    import numpy as np\n",
    "    import models.SiamSE.lib.models.models as models\n",
    "    from models.SiamSE.lib.tracker import SESiamFCTracker\n",
    "    from models.SiamSE.lib.utils import load_pretrain, cxy_wh_2_rect, convert_color_RGB\n",
    "    \n",
    "    def get_axis_aligned_bbox(bbox):\n",
    "        \"\"\"Convert bbox to [xc, yc, w, h] format\"\"\"\n",
    "        x, y, w, h = bbox\n",
    "        return [x + w / 2, y + h / 2, w, h]\n",
    "    \n",
    "    class SEsiamfc(Tracker):\n",
    "        def __init__(self):\n",
    "            super().__init__(\"SEsiamfc\")\n",
    "\n",
    "            path_SiamSE = 'models/SiamSE'\n",
    "            model_pretrained_path = os.path.join(path_SiamSE, 'checkpoint_vot.pth')\n",
    "            config_path = os.path.join(path_SiamSE, 'configs/test.yaml')\n",
    "            \n",
    "            model_carac = 'VOT2017'\n",
    "\n",
    "            with open(config_path, 'r') as f:\n",
    "                tracker_config = yaml.load(f.read(), Loader=yaml.FullLoader)\n",
    "\n",
    "            # prepare model\n",
    "            net = models.__dict__[tracker_config['MODEL']](padding_mode='constant')\n",
    "            net = load_pretrain(net, model_pretrained_path)\n",
    "            net = net.eval().cuda()\n",
    "\n",
    "            # prepare tracker\n",
    "            tracker_config = tracker_config['TRACKER'][model_carac]\n",
    "            self.tracker = SESiamFCTracker(net, **tracker_config)\n",
    "\n",
    "        def initialize(self, image_file, box):\n",
    "            # prepare image\n",
    "            image = cv2.imread(image_file)\n",
    "            image = convert_color_RGB(image)\n",
    "            \n",
    "            # prepare box\n",
    "            cx, cy, w, h = get_axis_aligned_bbox(box)\n",
    "            target_pos = np.array([cx, cy])\n",
    "            target_sz = np.array([w, h])\n",
    "\n",
    "            self.tracker.init(image, target_pos, target_sz)\n",
    "\n",
    "        def track(self, image_file):\n",
    "            # prepare image\n",
    "            image = cv2.imread(image_file)\n",
    "            image = convert_color_RGB(image)\n",
    "            \n",
    "            # track\n",
    "            target_pos, target_sz = self.tracker.track(image)\n",
    "\n",
    "            # prepare bbox\n",
    "            bbox = cxy_wh_2_rect(target_pos, target_sz)\n",
    "            return bbox\n",
    "    \n",
    "    return SEsiamfc()"
   ]
  },
  {
   "attachments": {},
   "cell_type": "markdown",
   "metadata": {},
   "source": [
    "## [AAA](https://github.com/songheony/A3T)"
   ]
  },
  {
   "cell_type": "code",
   "execution_count": 22,
   "metadata": {},
   "outputs": [],
   "source": [
    "model = 'A3T'\n",
    "url = 'https://github.com/songheony/A3T/archive/refs/heads/master.zip'\n",
    "\n",
    "# clone_repo(model, url)"
   ]
  },
  {
   "attachments": {},
   "cell_type": "markdown",
   "metadata": {},
   "source": [
    "This tracker is a bagging tracker. It uses the tracks of other trackers to make its own predictions. In our testing, we will try to see if the trackers using all the trackers we are testing is better then them individually."
   ]
  },
  {
   "cell_type": "code",
   "execution_count": 23,
   "metadata": {},
   "outputs": [
    {
     "name": "stdout",
     "output_type": "stream",
     "text": [
      "^C\n",
      "Traceback (most recent call last):\n",
      "  File \"/usr/lib/python3.10/runpy.py\", line 196, in _run_module_as_main\n",
      "    return _run_code(code, main_globals, None,\n",
      "  File \"/usr/lib/python3.10/runpy.py\", line 86, in _run_code\n",
      "    exec(code, run_globals)\n",
      "  File \"/mnt/c/Users/33652/Documents/ING 2 Prog/DeepNN/venv_dnn/lib/python3.10/site-packages/pip/__main__.py\", line 31, in <module>\n",
      "    sys.exit(_main())\n",
      "  File \"/mnt/c/Users/33652/Documents/ING 2 Prog/DeepNN/venv_dnn/lib/python3.10/site-packages/pip/_internal/cli/main.py\", line 68, in main\n",
      "    command = create_command(cmd_name, isolated=(\"--isolated\" in cmd_args))\n",
      "  File \"/mnt/c/Users/33652/Documents/ING 2 Prog/DeepNN/venv_dnn/lib/python3.10/site-packages/pip/_internal/commands/__init__.py\", line 109, in create_command\n",
      "    module = importlib.import_module(module_path)\n",
      "  File \"/usr/lib/python3.10/importlib/__init__.py\", line 126, in import_module\n",
      "    return _bootstrap._gcd_import(name[level:], package, level)\n",
      "  File \"<frozen importlib._bootstrap>\", line 1050, in _gcd_import\n",
      "  File \"<frozen importlib._bootstrap>\", line 1027, in _find_and_load\n",
      "  File \"<frozen importlib._bootstrap>\", line 1006, in _find_and_load_unlocked\n",
      "  File \"<frozen importlib._bootstrap>\", line 688, in _load_unlocked\n",
      "  File \"<frozen importlib._bootstrap_external>\", line 883, in exec_module\n",
      "  File \"<frozen importlib._bootstrap>\", line 241, in _call_with_frames_removed\n",
      "  File \"/mnt/c/Users/33652/Documents/ING 2 Prog/DeepNN/venv_dnn/lib/python3.10/site-packages/pip/_internal/commands/install.py\", line 11, in <module>\n",
      "    from pip._internal.cache import WheelCache\n",
      "  File \"/mnt/c/Users/33652/Documents/ING 2 Prog/DeepNN/venv_dnn/lib/python3.10/site-packages/pip/_internal/cache.py\", line 15, in <module>\n",
      "    from pip._internal.models.link import Link\n",
      "  File \"<frozen importlib._bootstrap>\", line 1027, in _find_and_load\n",
      "  File \"<frozen importlib._bootstrap>\", line 1006, in _find_and_load_unlocked\n",
      "  File \"<frozen importlib._bootstrap>\", line 688, in _load_unlocked\n",
      "  File \"<frozen importlib._bootstrap_external>\", line 879, in exec_module\n",
      "  File \"<frozen importlib._bootstrap_external>\", line 975, in get_code\n",
      "  File \"<frozen importlib._bootstrap_external>\", line 1074, in get_data\n",
      "KeyboardInterrupt\n",
      "Note: you may need to restart the kernel to use updated packages.\n",
      "/mnt/c/Users/33652/Documents/ING 2 Prog/DeepNN/projet/models/A3T\n",
      "fatal: destination path 'pytracking' already exists and is not an empty directory.\n",
      "fatal: destination path 'pysot-toolkit' already exists and is not an empty directory.\n",
      "/mnt/c/Users/33652/Documents/ING 2 Prog/DeepNN/projet/models/A3T/pysot-toolkit/pysot/utils\n",
      "/mnt/c/Users/33652/Documents/ING 2 Prog/DeepNN/projet/models/A3T/pysot-toolkit/pysot/utils/setup.py:1: DeprecationWarning: The distutils package is deprecated and slated for removal in Python 3.12. Use setuptools or check PEP 632 for potential alternatives\n",
      "  from distutils.core import setup\n",
      "running build_ext\n",
      "/mnt/c/Users/33652/Documents/ING 2 Prog/DeepNN/projet/models/A3T\n",
      "/mnt/c/Users/33652/Documents/ING 2 Prog/DeepNN/projet\n"
     ]
    }
   ],
   "source": [
    "%pip install opencv-python opencv-contrib-python Cython seaborn sympy\n",
    "\n",
    "%cd models/A3T\n",
    "\n",
    "# clone frameworks\n",
    "!git clone https://github.com/songheony/pytracking.git\n",
    "!git clone https://github.com/StrangerZhang/pysot-toolkit\n",
    "\n",
    "# install region\n",
    "%cd pysot-toolkit/pysot/utils/\n",
    "!python setup.py build_ext --inplace\n",
    "%cd ../../..\n",
    "\n",
    "%cd ../../"
   ]
  },
  {
   "attachments": {},
   "cell_type": "markdown",
   "metadata": {},
   "source": [
    "Some modification on the path used has to be performed."
   ]
  },
  {
   "cell_type": "code",
   "execution_count": 24,
   "metadata": {},
   "outputs": [
    {
     "name": "stdout",
     "output_type": "stream",
     "text": [
      "Appending to model.py\n"
     ]
    }
   ],
   "source": [
    "%%writefile -a model.py\n",
    "\n",
    "def get_AAA_tracker():\n",
    "    import numpy as np\n",
    "    class AAA(Tracker):\n",
    "        def __init__(self):\n",
    "            super().__init__(\"AAA\")\n",
    "            import models.A3T.algorithms.aaa as aaa\n",
    "            self.experts = [\n",
    "                get_SESIAMFC_tracker()\n",
    "            ]\n",
    "            self.n_experts = len(self.experts) # number of experts\n",
    "            theta, gamma = 0.92, 11  # you can tune hyperparameters by running run_tuning.sh\n",
    "            self.tracker = aaa.AAA(self.n_experts, mode=\"LOG_DIR\", threshold=theta)\n",
    "\n",
    "\n",
    "        def initialize(self, image_path, bbox):\n",
    "            for i in range(self.n_experts):\n",
    "                self.experts[i].initialize(image_path, bbox)\n",
    "            self.tracker.initialize(image_path, bbox)\n",
    "\n",
    "        def track(self, image_path):\n",
    "            experts_result = np.zeros((self.n_experts, 4))\n",
    "            for i in range(self.n_experts):\n",
    "                experts_result[i, :] = self.experts[i].track(image_path)\n",
    "            state, offline, weight = self.tracker.track(image_path, experts_result)\n",
    "            return state\n",
    "  \n",
    "    return AAA()"
   ]
  },
  {
   "attachments": {},
   "cell_type": "markdown",
   "metadata": {},
   "source": [
    "# All"
   ]
  },
  {
   "cell_type": "code",
   "execution_count": 25,
   "metadata": {},
   "outputs": [
    {
     "name": "stdout",
     "output_type": "stream",
     "text": [
      "Appending to model.py\n"
     ]
    }
   ],
   "source": [
    "%%writefile -a model.py\n",
    "\n",
    "def load_models():\n",
    "    ret = {}\n",
    "    \n",
    "    ret['SEsiamFC'] = get_SESIAMFC_tracker()\n",
    "    ret['AAA'] = get_AAA_tracker()\n",
    "    \n",
    "    return ret"
   ]
  },
  {
   "attachments": {},
   "cell_type": "markdown",
   "metadata": {},
   "source": [
    "# "
   ]
  }
 ],
 "metadata": {
  "kernelspec": {
   "display_name": "venv_dnn",
   "language": "python",
   "name": "python3"
  },
  "language_info": {
   "codemirror_mode": {
    "name": "ipython",
    "version": 3
   },
   "file_extension": ".py",
   "mimetype": "text/x-python",
   "name": "python",
   "nbconvert_exporter": "python",
   "pygments_lexer": "ipython3",
   "version": "3.10.6"
  },
  "orig_nbformat": 4,
  "vscode": {
   "interpreter": {
    "hash": "96d6dd9d829a4a8dd1edda94add76f4a08841e645b8132fdf668d21ba72dd652"
   }
  }
 },
 "nbformat": 4,
 "nbformat_minor": 2
}
