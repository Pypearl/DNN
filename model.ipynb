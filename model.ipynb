{
 "cells": [
  {
   "attachments": {},
   "cell_type": "markdown",
   "metadata": {},
   "source": [
    "# Model\n"
   ]
  },
  {
   "cell_type": "code",
   "execution_count": 161,
   "metadata": {},
   "outputs": [],
   "source": [
    "import shutil\n",
    "import urllib.request\n",
    "import os\n",
    "import cv2\n",
    "import numpy as np\n",
    "import yaml\n",
    "import gdown\n",
    "\n",
    "from pathlib import Path\n",
    "from typing import *"
   ]
  },
  {
   "cell_type": "code",
   "execution_count": 162,
   "metadata": {},
   "outputs": [],
   "source": [
    "models_folder = Path(\"models\")\n",
    "\n",
    "models_folder.mkdir(parents=True, exist_ok=True)\n",
    "(models_folder / \"__init__.py\").touch()"
   ]
  },
  {
   "attachments": {},
   "cell_type": "markdown",
   "metadata": {},
   "source": [
    "Each tracker must inherit from the `Tracker` class.\n"
   ]
  },
  {
   "cell_type": "code",
   "execution_count": 163,
   "metadata": {},
   "outputs": [
    {
     "name": "stdout",
     "output_type": "stream",
     "text": [
      "Overwriting model.py\n"
     ]
    }
   ],
   "source": [
    "%%writefile model.py\n",
    "import os\n",
    "\n",
    "\n",
    "class Tracker:\n",
    "    def __init__(self, model_name: str):\n",
    "        self.model_name: str = model_name\n",
    "\n",
    "    def initialize(self, image_file, box):\n",
    "        \"\"\"Initialize the tracker with the first frame and the bounding box.\"\"\"\n",
    "        pass\n",
    "\n",
    "    def track(self, image_file):\n",
    "        \"\"\"Track the object in the next frame and return the new bounding box.\"\"\"\n",
    "        pass"
   ]
  },
  {
   "cell_type": "code",
   "execution_count": 164,
   "metadata": {},
   "outputs": [],
   "source": [
    "def clone_repo(model: str, url: str):\n",
    "    \"\"\"Clone a repo from GitHub and put it in the models folder.\"\"\"\n",
    "    path_zip: Path = models_folder / (model + \".zip\")\n",
    "    dest_folder: Path = models_folder / model\n",
    "\n",
    "    if dest_folder.exists():\n",
    "        return\n",
    "\n",
    "    urllib.request.urlretrieve(url, path_zip)\n",
    "    shutil.unpack_archive(path_zip, models_folder)\n",
    "\n",
    "    try:\n",
    "        (models_folder / (model + \"-master\")).rename(dest_folder)\n",
    "    except:\n",
    "        (models_folder / (model + \"-main\")).rename(dest_folder)\n",
    "\n",
    "    path_zip.unlink()\n",
    "\n",
    "    (dest_folder / \"__init__.py\").touch()"
   ]
  },
  {
   "attachments": {},
   "cell_type": "markdown",
   "metadata": {},
   "source": [
    "## [SiamSE](https://github.com/isosnovik/SiamSE)\n"
   ]
  },
  {
   "cell_type": "code",
   "execution_count": 165,
   "metadata": {},
   "outputs": [],
   "source": [
    "model = \"SiamSE\"\n",
    "repo_url = \"https://github.com/ISosnovik/SiamSE/archive/refs/heads/master.zip\"\n",
    "clone_repo(model, repo_url)\n",
    "\n",
    "weight_path = str(models_folder / \"SiamSE\" / \"checkpoint_vot.pth\")\n",
    "\n",
    "if not os.path.exists(weight_path):\n",
    "    weight_url = \"https://drive.google.com/uc?id=1WQ-9_QE9Xk9wj52vVcEDIXY2NBTupAnZ\"\n",
    "    gdown.download(weight_url, output=weight_path)"
   ]
  },
  {
   "cell_type": "code",
   "execution_count": 166,
   "metadata": {},
   "outputs": [
    {
     "name": "stdout",
     "output_type": "stream",
     "text": [
      "Appending to model.py\n"
     ]
    }
   ],
   "source": [
    "%%writefile -a model.py\n",
    "\n",
    "import os\n",
    "import cv2\n",
    "import yaml\n",
    "import numpy as np\n",
    "import models.SiamSE.lib.models.models as models\n",
    "\n",
    "from pathlib import Path\n",
    "from models.SiamSE.lib.tracker import SESiamFCTracker\n",
    "from models.SiamSE.lib.utils import load_pretrain, cxy_wh_2_rect, convert_color_RGB\n",
    "from typing import *\n",
    "\n",
    "def get_SESIAMFC_tracker():\n",
    "    \n",
    "    def get_axis_aligned_bbox(bbox):\n",
    "        \"\"\"Convert bbox to [xc, yc, w, h] format\"\"\"\n",
    "        x, y, w, h = bbox\n",
    "        return [x + w / 2, y + h / 2, w, h]\n",
    "    \n",
    "    class SEsiamfc(Tracker):\n",
    "        def __init__(self):\n",
    "            super().__init__(\"SEsiamfc\")\n",
    "\n",
    "            path_SiamSE = Path('models') / 'SiamSE'\n",
    "            model_pretrained_path: Path = path_SiamSE / 'checkpoint_vot.pth'\n",
    "            config_path: Path = path_SiamSE / 'configs' / 'test.yaml'\n",
    "            \n",
    "            with open(config_path, 'r') as f:\n",
    "                tracker_config: Dict = yaml.load(f.read(), Loader=yaml.FullLoader)\n",
    "\n",
    "            # Prepare model\n",
    "            net: Any = models.__dict__[tracker_config['MODEL']](padding_mode='constant')\n",
    "            net = load_pretrain(net, model_pretrained_path)\n",
    "            net = net.eval().cuda()\n",
    "\n",
    "            # Prepare tracker\n",
    "            tracker_config: Dict = tracker_config['TRACKER']['VOT2017']\n",
    "            self.tracker = SESiamFCTracker(net, **tracker_config)\n",
    "\n",
    "        def initialize(self, image_file, box):\n",
    "            # Prepare image\n",
    "            image = cv2.imread(image_file)\n",
    "            image = convert_color_RGB(image)\n",
    "            \n",
    "            # Prepare box\n",
    "            cx, cy, w, h = get_axis_aligned_bbox(box)\n",
    "            target_pos = np.array([cx, cy])\n",
    "            target_sz = np.array([w, h])\n",
    "\n",
    "            self.tracker.init(image, target_pos, target_sz)\n",
    "\n",
    "        def track(self, image_file):\n",
    "            # Prepare image\n",
    "            image = cv2.imread(image_file)\n",
    "            image = convert_color_RGB(image)\n",
    "            \n",
    "            # Track\n",
    "            target_pos, target_sz = self.tracker.track(image)\n",
    "\n",
    "            # Prepare bbox\n",
    "            return cxy_wh_2_rect(target_pos, target_sz)\n",
    "    \n",
    "    return SEsiamfc()"
   ]
  },
  {
   "attachments": {},
   "cell_type": "markdown",
   "metadata": {},
   "source": [
    "## [PyECO](https://github.com/StrangerZhang/pyECO)\n"
   ]
  },
  {
   "cell_type": "code",
   "execution_count": 167,
   "metadata": {},
   "outputs": [],
   "source": [
    "model = \"pyECO\"\n",
    "url = \"https://github.com/StrangerZhang/pyECO/archive/refs/heads/master.zip\"\n",
    "\n",
    "clone_repo(model, url)"
   ]
  },
  {
   "cell_type": "code",
   "execution_count": 168,
   "metadata": {},
   "outputs": [],
   "source": [
    "if not (models_folder / model / \"eco\" / \"features\" / \"_gradient.cpython-310-x86_64-linux-gnu.so\").exists():\n",
    "    %cd models/pyECO/eco/features/\n",
    "    !python setup.py build_ext --inplace\n",
    "    %cd -"
   ]
  },
  {
   "cell_type": "code",
   "execution_count": 169,
   "metadata": {},
   "outputs": [
    {
     "name": "stdout",
     "output_type": "stream",
     "text": [
      "Appending to model.py\n"
     ]
    }
   ],
   "source": [
    "%%file -a model.py\n",
    "\n",
    "def get_PyECO_tracker():\n",
    "    os.sys.path.append('models/pyECO')\n",
    "    from eco import ECOTracker\n",
    "    \n",
    "    class PyECO(Tracker):\n",
    "        def __init__(self):\n",
    "            super().__init__(\"PyECO\")\n",
    "            self.tracker = ECOTracker(True)\n",
    "\n",
    "        def initialize(self, image_file, box):\n",
    "            image = cv2.imread(image_file)\n",
    "            self.tracker.init(image, box)\n",
    "\n",
    "        def track(self, image_file):\n",
    "            image = cv2.imread(image_file)\n",
    "            extremities = self.tracker.update(image)\n",
    "            bbox = [extremities[0], extremities[1], extremities[2] - extremities[0], extremities[3] - extremities[1]]\n",
    "            return bbox\n",
    "    \n",
    "    return PyECO()"
   ]
  },
  {
   "attachments": {},
   "cell_type": "markdown",
   "metadata": {},
   "source": [
    "## [MixFormer](https://github.com/MCG-NJU/MixFormer)"
   ]
  },
  {
   "cell_type": "code",
   "execution_count": 170,
   "metadata": {},
   "outputs": [],
   "source": [
    "model = \"MixFormer\"\n",
    "url = \"https://github.com/Sefray/MixFormer/archive/refs/heads/master.zip\"\n",
    "\n",
    "clone_repo(model, url)\n",
    "\n",
    "weight_file = 'mixformer_online_22k.pth.tar'\n",
    "weight_path = str(models_folder / \"Mixformer\" / weight_file)\n",
    "\n",
    "if not os.path.exists(weight_path):\n",
    "    weight_url = \"https://drive.google.com/uc?id=1-UonqFXM-jKNnkJmN8lSEczeaKiNVxeh\"\n",
    "    gdown.download(weight_url, output=weight_path)\n",
    "\n",
    "    %cd models/MixFormer/\n",
    "    !python tracking/create_default_local_file.py --workspace_dir . --data_dir ./data --save_dir .\n",
    "    %cd -"
   ]
  },
  {
   "cell_type": "code",
   "execution_count": 171,
   "metadata": {},
   "outputs": [
    {
     "name": "stdout",
     "output_type": "stream",
     "text": [
      "Appending to model.py\n"
     ]
    }
   ],
   "source": [
    "%%file -a model.py\n",
    "\n",
    "def get_MixFormer_tracker():\n",
    "    os.sys.path.append('models/MixFormer')\n",
    "    from lib.test.tracker.mixformer import MixFormer as MF\n",
    "    import importlib\n",
    "    class MixFormer(Tracker):\n",
    "        def __init__(self):\n",
    "            super().__init__(\"MixFormer\")\n",
    "            \n",
    "            tracker_params = {}\n",
    "            tracker_params['model'] = 'mixformer_online_22k.pth.tar'\n",
    "            tracker_params['max_score_decay'] = 1.0\n",
    "            tracker_params['vis_attn'] = 0\n",
    "\n",
    "            param_module = importlib.import_module('lib.test.parameter.mixformer')\n",
    "            search_area_scale = None\n",
    "            if tracker_params is not None and 'search_area_scale' in tracker_params:\n",
    "                search_area_scale = tracker_params['search_area_scale']\n",
    "            model = ''\n",
    "            if tracker_params is not None and 'model' in tracker_params:\n",
    "                model = tracker_params['model']\n",
    "            params = param_module.parameters('baseline', model, search_area_scale)\n",
    "            if tracker_params is not None:\n",
    "                for param_k, v in tracker_params.items():\n",
    "                    setattr(params, param_k, v)\n",
    "            \n",
    "            self.tracker = MF(params)\n",
    "\n",
    "        def initialize(self, image_file, box):\n",
    "            image = cv2.imread(image_file)\n",
    "            info = {'init_bbox': box}\n",
    "            self.tracker.initialize(image, info)\n",
    "\n",
    "        def track(self, image_file):\n",
    "            image = cv2.imread(image_file)\n",
    "            info = self.tracker.track(image)\n",
    "            return info['target_bbox']\n",
    "\n",
    "    return MixFormer()"
   ]
  },
  {
   "attachments": {},
   "cell_type": "markdown",
   "metadata": {},
   "source": [
    "## [AAA](https://github.com/songheony/A3T)\n"
   ]
  },
  {
   "cell_type": "code",
   "execution_count": 172,
   "metadata": {},
   "outputs": [],
   "source": [
    "model = \"A3T\"\n",
    "url = \"https://github.com/Leiyks/A3T/archive/refs/heads/master.zip\"\n",
    "\n",
    "clone_repo(model, url)"
   ]
  },
  {
   "attachments": {},
   "cell_type": "markdown",
   "metadata": {},
   "source": [
    "This tracker is a bagging tracker. It uses the tracks of other trackers to make its own predictions. In our testing, we will try to see if the trackers using all the trackers we are testing is better then them individually.\n"
   ]
  },
  {
   "cell_type": "code",
   "execution_count": 173,
   "metadata": {},
   "outputs": [],
   "source": [
    "if not (models_folder / \"A3T\" / \"pysot-toolkit\").exists():\n",
    "    %cd models/A3T\n",
    "\n",
    "    # clone frameworks\n",
    "    !git clone https://github.com/songheony/pytracking.git\n",
    "    !git clone https://github.com/StrangerZhang/pysot-toolkit\n",
    "\n",
    "    # install region\n",
    "    %cd pysot-toolkit/pysot/utils/\n",
    "    !python setup.py build_ext --inplace\n",
    "    %cd ../../../../../\n"
   ]
  },
  {
   "attachments": {},
   "cell_type": "markdown",
   "metadata": {},
   "source": [
    "Some modification on the path used has to be performed.\n"
   ]
  },
  {
   "cell_type": "code",
   "execution_count": 174,
   "metadata": {},
   "outputs": [
    {
     "name": "stdout",
     "output_type": "stream",
     "text": [
      "Appending to model.py\n"
     ]
    }
   ],
   "source": [
    "%%writefile -a model.py\n",
    "\n",
    "def get_AAA_tracker():\n",
    "    import numpy as np\n",
    "    class AAA(Tracker):\n",
    "        def __init__(self):\n",
    "            super().__init__(\"AAA\")\n",
    "            import models.A3T.algorithms.aaa as aaa\n",
    "            self.experts = [\n",
    "                get_SESIAMFC_tracker(),\n",
    "                get_PyECO_tracker(),\n",
    "                get_MixFormer_tracker(),\n",
    "            ]\n",
    "            self.n_experts = len(self.experts) # number of experts\n",
    "            theta, gamma = 0.92, 11  # you can tune hyperparameters by running run_tuning.sh\n",
    "            self.tracker = aaa.AAA(self.n_experts, mode=\"LOG_DIR\", threshold=theta)\n",
    "\n",
    "\n",
    "        def initialize(self, image_path, bbox):\n",
    "            for i in range(self.n_experts):\n",
    "                self.experts[i].initialize(image_path, bbox)\n",
    "            self.tracker.initialize(image_path, bbox)\n",
    "\n",
    "        def track(self, image_path):\n",
    "            experts_result = np.zeros((self.n_experts, 4))\n",
    "            for i in range(self.n_experts):\n",
    "                experts_result[i, :] = self.experts[i].track(image_path)\n",
    "            state, offline, weight = self.tracker.track(image_path, experts_result)\n",
    "            return state\n",
    "  \n",
    "    return AAA()"
   ]
  },
  {
   "attachments": {},
   "cell_type": "markdown",
   "metadata": {},
   "source": [
    "# All\n"
   ]
  },
  {
   "cell_type": "code",
   "execution_count": 175,
   "metadata": {},
   "outputs": [
    {
     "name": "stdout",
     "output_type": "stream",
     "text": [
      "Appending to model.py\n"
     ]
    }
   ],
   "source": [
    "%%writefile -a model.py\n",
    "\n",
    "def load_models() -> Dict[str, Tracker]:\n",
    "    \"\"\"Load all models\n",
    "    Returns:\n",
    "        Dict[str, Tracker]: Dict of models\n",
    "    \"\"\"\n",
    "    ret: Dict[str, Tracker] = {}\n",
    "    \n",
    "    ret['SEsiamFC'] = get_SESIAMFC_tracker()\n",
    "    ret['AAA'] = get_AAA_tracker()\n",
    "    ret['PyECO'] = get_PyECO_tracker()\n",
    "    ret['MixFormer'] = get_MixFormer_tracker()\n",
    "    \n",
    "    return ret"
   ]
  },
  {
   "attachments": {},
   "cell_type": "markdown",
   "metadata": {},
   "source": [
    "#\n"
   ]
  }
 ],
 "metadata": {
  "kernelspec": {
   "display_name": "venv_vot",
   "language": "python",
   "name": "python3"
  },
  "language_info": {
   "codemirror_mode": {
    "name": "ipython",
    "version": 3
   },
   "file_extension": ".py",
   "mimetype": "text/x-python",
   "name": "python",
   "nbconvert_exporter": "python",
   "pygments_lexer": "ipython3",
   "version": "3.10.6"
  },
  "orig_nbformat": 4,
  "vscode": {
   "interpreter": {
    "hash": "edcb81e61fb5b5265ef3ce5756b65e7049dc017a4475dd0d5299ea5731bcc364"
   }
  }
 },
 "nbformat": 4,
 "nbformat_minor": 2
}
