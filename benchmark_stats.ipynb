{
 "cells": [
  {
   "attachments": {},
   "cell_type": "markdown",
   "metadata": {},
   "source": [
    "# Benchmark stats\n"
   ]
  },
  {
   "attachments": {},
   "cell_type": "markdown",
   "metadata": {},
   "source": [
    "This notebook has to be executed after [benchmark.ipynb](benchmark.ipynb) to generate its latex array.\n"
   ]
  },
  {
   "cell_type": "code",
   "execution_count": 1,
   "metadata": {},
   "outputs": [],
   "source": [
    "import matplotlib.pyplot as plt\n",
    "import os\n",
    "import json\n",
    "import pandas as pd\n",
    "import numpy as np\n",
    "\n",
    "from pathlib import Path\n",
    "from typing import *"
   ]
  },
  {
   "cell_type": "code",
   "execution_count": 2,
   "metadata": {},
   "outputs": [],
   "source": [
    "def get_results() -> Dict:\n",
    "    \"\"\"Get results from the results folder.\"\"\"\n",
    "    res: Dict = {}\n",
    "    result_folder = Path(\"results\")\n",
    "\n",
    "    for tracker in result_folder.iterdir():\n",
    "        res[tracker.name] = {}\n",
    "        for dataset in tracker.iterdir():\n",
    "            with open(dataset) as f:\n",
    "                res[tracker.name][dataset.name[:-5]] = json.load(f)\n",
    "    return res"
   ]
  },
  {
   "cell_type": "code",
   "execution_count": 3,
   "metadata": {},
   "outputs": [
    {
     "data": {
      "text/plain": [
       "{'SEsiamfc': {'myvot2021': {},\n",
       "  'mytc128': {'TennisBall_ce': {'precision': 0.38422615216766487,\n",
       "    'succes': 0.53125,\n",
       "    'fps': 36.7877991046747},\n",
       "   'Torus': {'precision': 0.7737576297439485,\n",
       "    'succes': 0.9924242424242424,\n",
       "    'fps': 25.26998782395999},\n",
       "   'Yo-yos_ce1': {'precision': 0.5569173949173353,\n",
       "    'succes': 0.7361702127659574,\n",
       "    'fps': 34.78165630126314}}},\n",
       " 'AAA': {'myvot2021': {},\n",
       "  'mytc128': {'TennisBall_ce': {'precision': 0.3952917905561507,\n",
       "    'succes': 0.5486111111111112,\n",
       "    'fps': 15.739470651631182},\n",
       "   'Torus': {'precision': 0.8007557361715895,\n",
       "    'succes': 1.0,\n",
       "    'fps': 11.269998877724941},\n",
       "   'Yo-yos_ce1': {'precision': 0.5511148372089486,\n",
       "    'succes': 0.7148936170212766,\n",
       "    'fps': 17.320425036391043}}},\n",
       " 'PyECO': {'myvot2021': {},\n",
       "  'mytc128': {'TennisBall_ce': {'precision': 0.4078678024317599,\n",
       "    'succes': 0.53125,\n",
       "    'fps': 32.03256495824191},\n",
       "   'Torus': {'precision': 0.835281973327458,\n",
       "    'succes': 1.0,\n",
       "    'fps': 56.1888807746068},\n",
       "   'Yo-yos_ce1': {'precision': 0.5620729457036727,\n",
       "    'succes': 0.7319148936170212,\n",
       "    'fps': 56.9546323888882}}}}"
      ]
     },
     "execution_count": 3,
     "metadata": {},
     "output_type": "execute_result"
    }
   ],
   "source": [
    "results: Dict = get_results()\n",
    "results"
   ]
  },
  {
   "attachments": {},
   "cell_type": "markdown",
   "metadata": {},
   "source": [
    "# Compute stats\n"
   ]
  },
  {
   "cell_type": "code",
   "execution_count": 4,
   "metadata": {},
   "outputs": [],
   "source": [
    "def get_stats(results: Dict, metrics=[\"precision\", \"succes\", \"fps\"]):\n",
    "    stats: Dict = {}\n",
    "\n",
    "    for tracker in results:\n",
    "        stats[tracker] = {}\n",
    "\n",
    "        for dataset in results[tracker]:\n",
    "            for metric in metrics:\n",
    "\n",
    "                cur: List[float] = []\n",
    "                for seq in results[tracker][dataset]:\n",
    "                    cur.append(results[tracker][dataset][seq][metric])\n",
    "\n",
    "                stats[tracker][(dataset, metric)] = [\n",
    "                    f\"{np.mean(cur):3.2f} ({np.std(cur):3.2f})\"\n",
    "                ]\n",
    "\n",
    "    return stats"
   ]
  },
  {
   "cell_type": "code",
   "execution_count": 5,
   "metadata": {},
   "outputs": [
    {
     "name": "stderr",
     "output_type": "stream",
     "text": [
      "/home/leiyks/git/DNN/venv/lib/python3.10/site-packages/numpy/core/fromnumeric.py:3432: RuntimeWarning: Mean of empty slice.\n",
      "  return _methods._mean(a, axis=axis, dtype=dtype,\n",
      "/home/leiyks/git/DNN/venv/lib/python3.10/site-packages/numpy/core/_methods.py:190: RuntimeWarning: invalid value encountered in double_scalars\n",
      "  ret = ret.dtype.type(ret / rcount)\n",
      "/home/leiyks/git/DNN/venv/lib/python3.10/site-packages/numpy/core/_methods.py:265: RuntimeWarning: Degrees of freedom <= 0 for slice\n",
      "  ret = _var(a, axis=axis, dtype=dtype, out=out, ddof=ddof,\n",
      "/home/leiyks/git/DNN/venv/lib/python3.10/site-packages/numpy/core/_methods.py:223: RuntimeWarning: invalid value encountered in divide\n",
      "  arrmean = um.true_divide(arrmean, div, out=arrmean, casting='unsafe',\n",
      "/home/leiyks/git/DNN/venv/lib/python3.10/site-packages/numpy/core/_methods.py:257: RuntimeWarning: invalid value encountered in double_scalars\n",
      "  ret = ret.dtype.type(ret / rcount)\n"
     ]
    },
    {
     "data": {
      "text/plain": [
       "{'SEsiamfc': {('myvot2021', 'precision'): ['nan (nan)'],\n",
       "  ('myvot2021', 'succes'): ['nan (nan)'],\n",
       "  ('myvot2021', 'fps'): ['nan (nan)'],\n",
       "  ('mytc128', 'precision'): ['0.57 (0.16)'],\n",
       "  ('mytc128', 'succes'): ['0.75 (0.19)'],\n",
       "  ('mytc128', 'fps'): ['32.28 (5.02)']},\n",
       " 'AAA': {('myvot2021', 'precision'): ['nan (nan)'],\n",
       "  ('myvot2021', 'succes'): ['nan (nan)'],\n",
       "  ('myvot2021', 'fps'): ['nan (nan)'],\n",
       "  ('mytc128', 'precision'): ['0.58 (0.17)'],\n",
       "  ('mytc128', 'succes'): ['0.75 (0.19)'],\n",
       "  ('mytc128', 'fps'): ['14.78 (2.56)']},\n",
       " 'PyECO': {('myvot2021', 'precision'): ['nan (nan)'],\n",
       "  ('myvot2021', 'succes'): ['nan (nan)'],\n",
       "  ('myvot2021', 'fps'): ['nan (nan)'],\n",
       "  ('mytc128', 'precision'): ['0.60 (0.18)'],\n",
       "  ('mytc128', 'succes'): ['0.75 (0.19)'],\n",
       "  ('mytc128', 'fps'): ['48.39 (11.57)']}}"
      ]
     },
     "execution_count": 5,
     "metadata": {},
     "output_type": "execute_result"
    }
   ],
   "source": [
    "stats = get_stats(results)\n",
    "stats"
   ]
  },
  {
   "cell_type": "code",
   "execution_count": 6,
   "metadata": {},
   "outputs": [
    {
     "name": "stderr",
     "output_type": "stream",
     "text": [
      "/tmp/ipykernel_116223/1517688541.py:3: FutureWarning: The frame.append method is deprecated and will be removed from pandas in a future version. Use pandas.concat instead.\n",
      "  df = df.append(pd.DataFrame(list(stats.values())[i], index=[list(stats.keys())[i]]))\n",
      "/tmp/ipykernel_116223/1517688541.py:3: FutureWarning: The frame.append method is deprecated and will be removed from pandas in a future version. Use pandas.concat instead.\n",
      "  df = df.append(pd.DataFrame(list(stats.values())[i], index=[list(stats.keys())[i]]))\n"
     ]
    },
    {
     "data": {
      "text/html": [
       "<div>\n",
       "<style scoped>\n",
       "    .dataframe tbody tr th:only-of-type {\n",
       "        vertical-align: middle;\n",
       "    }\n",
       "\n",
       "    .dataframe tbody tr th {\n",
       "        vertical-align: top;\n",
       "    }\n",
       "\n",
       "    .dataframe thead tr th {\n",
       "        text-align: left;\n",
       "    }\n",
       "</style>\n",
       "<table border=\"1\" class=\"dataframe\">\n",
       "  <thead>\n",
       "    <tr>\n",
       "      <th></th>\n",
       "      <th colspan=\"3\" halign=\"left\">myvot2021</th>\n",
       "      <th colspan=\"3\" halign=\"left\">mytc128</th>\n",
       "    </tr>\n",
       "    <tr>\n",
       "      <th></th>\n",
       "      <th>precision</th>\n",
       "      <th>succes</th>\n",
       "      <th>fps</th>\n",
       "      <th>precision</th>\n",
       "      <th>succes</th>\n",
       "      <th>fps</th>\n",
       "    </tr>\n",
       "  </thead>\n",
       "  <tbody>\n",
       "    <tr>\n",
       "      <th>SEsiamfc</th>\n",
       "      <td>nan (nan)</td>\n",
       "      <td>nan (nan)</td>\n",
       "      <td>nan (nan)</td>\n",
       "      <td>0.57 (0.16)</td>\n",
       "      <td>0.75 (0.19)</td>\n",
       "      <td>32.28 (5.02)</td>\n",
       "    </tr>\n",
       "    <tr>\n",
       "      <th>AAA</th>\n",
       "      <td>nan (nan)</td>\n",
       "      <td>nan (nan)</td>\n",
       "      <td>nan (nan)</td>\n",
       "      <td>0.58 (0.17)</td>\n",
       "      <td>0.75 (0.19)</td>\n",
       "      <td>14.78 (2.56)</td>\n",
       "    </tr>\n",
       "    <tr>\n",
       "      <th>PyECO</th>\n",
       "      <td>nan (nan)</td>\n",
       "      <td>nan (nan)</td>\n",
       "      <td>nan (nan)</td>\n",
       "      <td>0.60 (0.18)</td>\n",
       "      <td>0.75 (0.19)</td>\n",
       "      <td>48.39 (11.57)</td>\n",
       "    </tr>\n",
       "  </tbody>\n",
       "</table>\n",
       "</div>"
      ],
      "text/plain": [
       "          myvot2021                            mytc128               \\\n",
       "          precision     succes        fps    precision       succes   \n",
       "SEsiamfc  nan (nan)  nan (nan)  nan (nan)  0.57 (0.16)  0.75 (0.19)   \n",
       "AAA       nan (nan)  nan (nan)  nan (nan)  0.58 (0.17)  0.75 (0.19)   \n",
       "PyECO     nan (nan)  nan (nan)  nan (nan)  0.60 (0.18)  0.75 (0.19)   \n",
       "\n",
       "                         \n",
       "                    fps  \n",
       "SEsiamfc   32.28 (5.02)  \n",
       "AAA        14.78 (2.56)  \n",
       "PyECO     48.39 (11.57)  "
      ]
     },
     "execution_count": 6,
     "metadata": {},
     "output_type": "execute_result"
    }
   ],
   "source": [
    "df = pd.DataFrame(list(stats.values())[0], index=[list(stats.keys())[0]])\n",
    "for i in range(1, len(stats)):\n",
    "    df = df.append(pd.DataFrame(list(stats.values())[i], index=[list(stats.keys())[i]]))\n",
    "df"
   ]
  },
  {
   "cell_type": "code",
   "execution_count": 7,
   "metadata": {},
   "outputs": [
    {
     "name": "stdout",
     "output_type": "stream",
     "text": [
      "\\begin{table}[!ht]\n",
      "\\caption{Results of the benchmarks}\n",
      "\\begin{tabular}{lllllll}\n",
      " & \\multicolumn{3}{l}{myvot2021} & \\multicolumn{3}{l}{mytc128} \\\\\n",
      " & precision & succes & fps & precision & succes & fps \\\\\n",
      "SEsiamfc & nan (nan) & nan (nan) & nan (nan) & 0.57 (0.16) & 0.75 (0.19) & 32.28 (5.02) \\\\\n",
      "AAA & nan (nan) & nan (nan) & nan (nan) & 0.58 (0.17) & 0.75 (0.19) & 14.78 (2.56) \\\\\n",
      "PyECO & nan (nan) & nan (nan) & nan (nan) & 0.60 (0.18) & 0.75 (0.19) & 48.39 (11.57) \\\\\n",
      "\\end{tabular}\n",
      "\\end{table}\n",
      "\n"
     ]
    }
   ],
   "source": [
    "txt = df.style.to_latex(\n",
    "    position=\"!ht\",\n",
    "    multicol_align=\"l\",\n",
    "    multirow_align=\"l\",\n",
    "    caption=\"Results of the benchmarks\",\n",
    ")\n",
    "print(txt)"
   ]
  }
 ],
 "metadata": {
  "kernelspec": {
   "display_name": "venv",
   "language": "python",
   "name": "python3"
  },
  "language_info": {
   "codemirror_mode": {
    "name": "ipython",
    "version": 3
   },
   "file_extension": ".py",
   "mimetype": "text/x-python",
   "name": "python",
   "nbconvert_exporter": "python",
   "pygments_lexer": "ipython3",
   "version": "3.10.6"
  },
  "orig_nbformat": 4,
  "vscode": {
   "interpreter": {
    "hash": "948649c324ca7862321fb27243ea9939e0d68076f558125e86352d86ba9fdaa9"
   }
  }
 },
 "nbformat": 4,
 "nbformat_minor": 2
}
