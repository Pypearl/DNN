{
 "cells": [
  {
   "attachments": {},
   "cell_type": "markdown",
   "metadata": {},
   "source": [
    "# Benchmark stats"
   ]
  },
  {
   "attachments": {},
   "cell_type": "markdown",
   "metadata": {},
   "source": [
    "This notebook has to be executed after [benchmark.ipynb](benchmark.ipynb) to generate its latex array."
   ]
  },
  {
   "cell_type": "code",
   "execution_count": 2,
   "metadata": {},
   "outputs": [],
   "source": [
    "import matplotlib.pyplot as plt\n",
    "import os\n",
    "import json\n",
    "import pandas as pd\n",
    "import numpy as np"
   ]
  },
  {
   "cell_type": "code",
   "execution_count": 3,
   "metadata": {},
   "outputs": [],
   "source": [
    "def get_results():\n",
    "    res = {}\n",
    "    for tracker in os.listdir('results'):\n",
    "        res[tracker] = {}\n",
    "        for dataset in os.listdir(os.path.join('results', tracker)):\n",
    "            with open(os.path.join('results', tracker, dataset)) as f:\n",
    "                res[tracker][dataset[:-5]] = json.load(f)\n",
    "    return res"
   ]
  },
  {
   "cell_type": "code",
   "execution_count": 4,
   "metadata": {},
   "outputs": [],
   "source": [
    "results = get_results()"
   ]
  },
  {
   "cell_type": "code",
   "execution_count": 5,
   "metadata": {},
   "outputs": [
    {
     "data": {
      "text/plain": [
       "{'AAA': {'mytc128': {'Airport_ce': {'precision': 0.16891891891891891,\n",
       "    'succes': 0.16891891891891891,\n",
       "    'fps': 92.61365175628875},\n",
       "   'Baby_ce': {'precision': 0.16891891891891891,\n",
       "    'succes': 0.16891891891891891,\n",
       "    'fps': 110.59983162581565},\n",
       "   'Badminton_ce1': {'precision': 0.16753022452504318,\n",
       "    'succes': 0.16753022452504318,\n",
       "    'fps': 101.9535032052735}},\n",
       "  'myvot2021': {'agility': {'precision': 0.17,\n",
       "    'succes': 0.17,\n",
       "    'fps': 91.21858072733826},\n",
       "   'animal': {'precision': 0.17, 'succes': 0.17, 'fps': 83.04937159308828},\n",
       "   'ants1': {'precision': 0.16923076923076924,\n",
       "    'succes': 0.16923076923076924,\n",
       "    'fps': 86.83764785114612}}},\n",
       " 'SEsiamfc': {'mytc128': {'Airport_ce': {'precision': 0.7812066443927109,\n",
       "    'succes': 0.9054054054054054,\n",
       "    'fps': 6.883723550860995},\n",
       "   'Baby_ce': {'precision': 0.6395356516618809,\n",
       "    'succes': 1.0,\n",
       "    'fps': 6.004065244707545},\n",
       "   'Badminton_ce1': {'precision': 0.7362931192403986,\n",
       "    'succes': 1.0,\n",
       "    'fps': 6.077561002848247}},\n",
       "  'myvot2021': {'agility': {'precision': 0.4512656569127824,\n",
       "    'succes': 0.66,\n",
       "    'fps': 6.668602986479286},\n",
       "   'animal': {'precision': 0.4895799928939347,\n",
       "    'succes': 0.65,\n",
       "    'fps': 7.545139252861411},\n",
       "   'ants1': {'precision': 0.499260243701618,\n",
       "    'succes': 0.8953846153846153,\n",
       "    'fps': 4.608209862382938}}}}"
      ]
     },
     "execution_count": 5,
     "metadata": {},
     "output_type": "execute_result"
    }
   ],
   "source": [
    "results"
   ]
  },
  {
   "attachments": {},
   "cell_type": "markdown",
   "metadata": {},
   "source": [
    "# Compute stats"
   ]
  },
  {
   "cell_type": "code",
   "execution_count": 6,
   "metadata": {},
   "outputs": [],
   "source": [
    "def get_stats(results, metrics=['precision', 'succes', 'fps']):\n",
    "    stats = {}\n",
    "    for tracker in results:\n",
    "        stats[tracker] = {}\n",
    "        for dataset in results[tracker]:\n",
    "            for metric in metrics:\n",
    "                cur = []\n",
    "\n",
    "                for seq in results[tracker][dataset]:\n",
    "                    cur.append(results[tracker][dataset][seq][metric])\n",
    "\n",
    "                stats[tracker][(dataset, metric)] = [\"{:3.2f} ({:3.2f})\".format(np.mean(cur), np.std(cur))]\n",
    "\n",
    "    return stats"
   ]
  },
  {
   "cell_type": "code",
   "execution_count": 7,
   "metadata": {},
   "outputs": [
    {
     "data": {
      "text/plain": [
       "{'AAA': {('mytc128', 'precision'): ['0.17 (0.00)'],\n",
       "  ('mytc128', 'succes'): ['0.17 (0.00)'],\n",
       "  ('mytc128', 'fps'): ['101.72 (7.34)'],\n",
       "  ('myvot2021', 'precision'): ['0.17 (0.00)'],\n",
       "  ('myvot2021', 'succes'): ['0.17 (0.00)'],\n",
       "  ('myvot2021', 'fps'): ['87.04 (3.34)']},\n",
       " 'SEsiamfc': {('mytc128', 'precision'): ['0.72 (0.06)'],\n",
       "  ('mytc128', 'succes'): ['0.97 (0.04)'],\n",
       "  ('mytc128', 'fps'): ['6.32 (0.40)'],\n",
       "  ('myvot2021', 'precision'): ['0.48 (0.02)'],\n",
       "  ('myvot2021', 'succes'): ['0.74 (0.11)'],\n",
       "  ('myvot2021', 'fps'): ['6.27 (1.23)']}}"
      ]
     },
     "execution_count": 7,
     "metadata": {},
     "output_type": "execute_result"
    }
   ],
   "source": [
    "stats = get_stats(results)\n",
    "stats"
   ]
  },
  {
   "cell_type": "code",
   "execution_count": 28,
   "metadata": {},
   "outputs": [
    {
     "name": "stderr",
     "output_type": "stream",
     "text": [
      "/tmp/ipykernel_1987/1367913313.py:3: FutureWarning: The frame.append method is deprecated and will be removed from pandas in a future version. Use pandas.concat instead.\n",
      "  df = df.append(pd.DataFrame(list(stats.values())[i], index=[list(stats.keys())[i]]))\n"
     ]
    },
    {
     "data": {
      "text/html": [
       "<div>\n",
       "<style scoped>\n",
       "    .dataframe tbody tr th:only-of-type {\n",
       "        vertical-align: middle;\n",
       "    }\n",
       "\n",
       "    .dataframe tbody tr th {\n",
       "        vertical-align: top;\n",
       "    }\n",
       "\n",
       "    .dataframe thead tr th {\n",
       "        text-align: left;\n",
       "    }\n",
       "</style>\n",
       "<table border=\"1\" class=\"dataframe\">\n",
       "  <thead>\n",
       "    <tr>\n",
       "      <th></th>\n",
       "      <th colspan=\"3\" halign=\"left\">mytc128</th>\n",
       "      <th colspan=\"3\" halign=\"left\">myvot2021</th>\n",
       "    </tr>\n",
       "    <tr>\n",
       "      <th></th>\n",
       "      <th>precision</th>\n",
       "      <th>succes</th>\n",
       "      <th>fps</th>\n",
       "      <th>precision</th>\n",
       "      <th>succes</th>\n",
       "      <th>fps</th>\n",
       "    </tr>\n",
       "  </thead>\n",
       "  <tbody>\n",
       "    <tr>\n",
       "      <th>AAA</th>\n",
       "      <td>0.17 (0.00)</td>\n",
       "      <td>0.17 (0.00)</td>\n",
       "      <td>101.72 (7.34)</td>\n",
       "      <td>0.17 (0.00)</td>\n",
       "      <td>0.17 (0.00)</td>\n",
       "      <td>87.04 (3.34)</td>\n",
       "    </tr>\n",
       "    <tr>\n",
       "      <th>SEsiamfc</th>\n",
       "      <td>0.72 (0.06)</td>\n",
       "      <td>0.97 (0.04)</td>\n",
       "      <td>6.32 (0.40)</td>\n",
       "      <td>0.48 (0.02)</td>\n",
       "      <td>0.74 (0.11)</td>\n",
       "      <td>6.27 (1.23)</td>\n",
       "    </tr>\n",
       "  </tbody>\n",
       "</table>\n",
       "</div>"
      ],
      "text/plain": [
       "              mytc128                                myvot2021               \\\n",
       "            precision       succes            fps    precision       succes   \n",
       "AAA       0.17 (0.00)  0.17 (0.00)  101.72 (7.34)  0.17 (0.00)  0.17 (0.00)   \n",
       "SEsiamfc  0.72 (0.06)  0.97 (0.04)    6.32 (0.40)  0.48 (0.02)  0.74 (0.11)   \n",
       "\n",
       "                        \n",
       "                   fps  \n",
       "AAA       87.04 (3.34)  \n",
       "SEsiamfc   6.27 (1.23)  "
      ]
     },
     "execution_count": 28,
     "metadata": {},
     "output_type": "execute_result"
    }
   ],
   "source": [
    "df = pd.DataFrame(list(stats.values())[0], index=[list(stats.keys())[0]])\n",
    "for i in range (1, len(stats)):\n",
    "    df = df.append(pd.DataFrame(list(stats.values())[i], index=[list(stats.keys())[i]]))\n",
    "df"
   ]
  },
  {
   "cell_type": "code",
   "execution_count": 31,
   "metadata": {},
   "outputs": [
    {
     "name": "stdout",
     "output_type": "stream",
     "text": [
      "\\begin{table}[!ht]\n",
      "\\caption{Results of the benchmarks}\n",
      "\\begin{tabular}{lllllll}\n",
      " & \\multicolumn{3}{l}{mytc128} & \\multicolumn{3}{l}{myvot2021} \\\\\n",
      " & precision & succes & fps & precision & succes & fps \\\\\n",
      "AAA & 0.17 (0.00) & 0.17 (0.00) & 101.72 (7.34) & 0.17 (0.00) & 0.17 (0.00) & 87.04 (3.34) \\\\\n",
      "SEsiamfc & 0.72 (0.06) & 0.97 (0.04) & 6.32 (0.40) & 0.48 (0.02) & 0.74 (0.11) & 6.27 (1.23) \\\\\n",
      "\\end{tabular}\n",
      "\\end{table}\n",
      "\n"
     ]
    }
   ],
   "source": [
    "txt = df.style.to_latex(position='!ht', multicol_align='l', multirow_align='l',caption='Results of the benchmarks')\n",
    "print(txt)"
   ]
  },
  {
   "cell_type": "code",
   "execution_count": null,
   "metadata": {},
   "outputs": [],
   "source": []
  }
 ],
 "metadata": {
  "kernelspec": {
   "display_name": "venv_dnn",
   "language": "python",
   "name": "python3"
  },
  "language_info": {
   "codemirror_mode": {
    "name": "ipython",
    "version": 3
   },
   "file_extension": ".py",
   "mimetype": "text/x-python",
   "name": "python",
   "nbconvert_exporter": "python",
   "pygments_lexer": "ipython3",
   "version": "3.10.6"
  },
  "orig_nbformat": 4,
  "vscode": {
   "interpreter": {
    "hash": "96d6dd9d829a4a8dd1edda94add76f4a08841e645b8132fdf668d21ba72dd652"
   }
  }
 },
 "nbformat": 4,
 "nbformat_minor": 2
}
